{
 "cells": [
  {
   "cell_type": "markdown",
   "metadata": {},
   "source": [
    "# Assignment 2: Function Approximation for Q Learning\n",
    "\n",
    "Name: Lianming Shi\n",
    "\n",
    "ID: A99097650"
   ]
  },
  {
   "cell_type": "code",
   "execution_count": null,
   "metadata": {},
   "outputs": [],
   "source": []
  },
  {
   "cell_type": "markdown",
   "metadata": {},
   "source": [
    "### 1. Cartpole\n",
    "\n",
    "A cartpole problem is shown below.\n",
    "![pendulum2.png](pendulum2.png)\n",
    "\n",
    "The equation for the cartpole problem is nonlinear in nature, but it has been shown through robust control theory that a linear version of the equation of the form $\\dot{x} = Ax+Bu$ can be solved by a linear controller. Let us assume that we are interested in minimizing cart stray from the center, and pendulum falling. It turns out that typical techniques - open loop control, PID control, root locus, etc. is not suitable for stabilizing both the cart position (keep near center) or the pole angle (keep vertical). The solution to this question is a linear quadratic controller, but we won't be using the solution at the moment."
   ]
  },
  {
   "cell_type": "markdown",
   "metadata": {},
   "source": [
    "### Setup Environment for Function Approximation\n"
   ]
  },
  {
   "cell_type": "code",
   "execution_count": 1,
   "metadata": {},
   "outputs": [
    {
     "name": "stdout",
     "output_type": "stream",
     "text": [
      "\u001b[33mWARN: gym.spaces.Box autodetected dtype as <class 'numpy.float32'>. Please provide explicit dtype.\u001b[0m\n"
     ]
    }
   ],
   "source": [
    "import gym\n",
    "import numpy as np\n",
    "import matplotlib\n",
    "import matplotlib.pyplot as plt\n",
    "from __future__ import print_function\n",
    "import argparse\n",
    "import random\n",
    "import torch\n",
    "import torch.nn as nn\n",
    "import torch.nn.functional as F\n",
    "import torch.optim as optim\n",
    "from torchvision import datasets, transforms\n",
    "from torch.autograd import Variable\n",
    "\n",
    "use_cuda = torch.cuda.is_available()\n",
    "FloatTensor =  torch.FloatTensor\n",
    "LongTensor =  torch.LongTensor\n",
    "ByteTensor = torch.ByteTensor\n",
    "Tensor = FloatTensor\n",
    "batch_size = 1000\n",
    "learning_rate = 0.01                   # learning rate\n",
    "env = gym.make('CartPole-v0')   \n",
    "#env = env.unwrapped\n",
    "action_size = env.action_space.n  \n",
    "state_size = env.observation_space.shape[0]   \n",
    "hidden_size = 64\n",
    "alpha_decay = 0.1\n"
   ]
  },
  {
   "cell_type": "code",
   "execution_count": null,
   "metadata": {},
   "outputs": [],
   "source": []
  },
  {
   "cell_type": "markdown",
   "metadata": {},
   "source": [
    "#### Demonstrate your understanding of the simulation\n",
    "For OpenAI's CartPole-v0 environment,\n",
    "- describe the reward system\n",
    "- describe the each state variable (observation space)\n",
    "- describe the action space"
   ]
  },
  {
   "cell_type": "markdown",
   "metadata": {},
   "source": [
    "### Ans: \n",
    "\n",
    "Observation space contains four elements:\n",
    "\n",
    "Observation[0]: Cart Position   range: [-2.4,2.4]\n",
    "\n",
    "Observation[1]: Cart Velocity     range: [-inf,inf]\n",
    "\n",
    "Observation[2]: Pole Angle        range: [-41.8,41.8]\n",
    "\n",
    "Observation[3]: Pole Velocity At Tip      range: [-inf,inf]\n",
    "\n",
    "Reward system: Reward increase by 1 for every step taken, including the termination step.\n",
    "\n",
    "Action space: There are two actions which are 0 and 1. 0 means that push cart to the left; 1 means that push cart to the right\n",
    "\n"
   ]
  },
  {
   "cell_type": "markdown",
   "metadata": {},
   "source": [
    "### Write a Deep Neural Network class that creates a dense network of a desired architecture\n",
    "In this problem we will create neural network that is our function that takes states to q-values: $q=f(x)$. While any function approximator could be used (i.e. Chebyshev functions, taylor series polynomials), neural networks offer a most general form of 1st-order smooth function (though comprising of trivial small activation functions means that complex functions require a significant amount of weights to identify). \n",
    "\n",
    "Create a class for a QNetwork that uses PyTorch to create a fully connected sequential neural network, of the following properties:\n",
    "- solver: Adam\n",
    "\n",
    "- input and hidden layer activation function: tanh\n",
    "\n",
    "- output activation function: linear\n",
    "\n",
    "- loss: mse\n",
    "\n",
    "- learning_rate: variable\n",
    "\n",
    "- decay_rate: variable\n",
    "\n",
    "- hidden_state sizes: variable\n",
    "\n",
    "- state and action sizes: variable\n"
   ]
  },
  {
   "cell_type": "code",
   "execution_count": 2,
   "metadata": {},
   "outputs": [],
   "source": [
    "class Net(nn.Module):\n",
    "    def __init__(self,hidden_size,state_size, action_size):\n",
    "        super(Net, self).__init__()\n",
    "        nn.Module.__init__(self)\n",
    "        self.dense1 = nn.Linear(state_size, hidden_size)\n",
    "        self.out = nn.Linear(hidden_size, action_size)\n",
    "     #   self.optimizer = torch.optim.Adam(self.parameters(), lr=learning_rate,weight_decay=alpha_decay)    \n",
    "     #   self.loss_func = nn.MSELoss()  \n",
    "\n",
    "    def forward(self, x):\n",
    "        x = self.dense1(x)\n",
    "        x = F.tanh(x)\n",
    "        actions_value = self.out(x)\n",
    "        return actions_value\n",
    "    \n",
    "class QNetwork(object):\n",
    "    def __init__(self,learning_rate, state_size, action_size, hidden_size, alpha_decay):\n",
    "        self.hidden_size=hidden_size\n",
    "        self.state_size=state_size\n",
    "        self.action_size=action_size\n",
    "        self.alpha_decay=alpha_decay\n",
    "        self.net = Net(self.hidden_size,self.state_size,self.action_size)\n",
    "        self.LR = learning_rate    \n",
    "        self.optimizer = torch.optim.Adam(self.net.parameters(), lr=self.LR) \n",
    "        self.loss_func = nn.MSELoss() \n",
    "        \n",
    "        \n",
    "    def learn(self, current_q_value, expected_q_values):\n",
    "             \n",
    "        loss = self.loss_func(current_q_value, expected_q_values)\n",
    "        self.optimizer.zero_grad()\n",
    "        loss.backward()\n",
    "        \n",
    "        for param in self.net.parameters():\n",
    "            param.grad.data.clamp_(-1, 1)\n",
    "        self.optimizer.step()\n",
    "    \n",
    "    "
   ]
  },
  {
   "cell_type": "markdown",
   "metadata": {},
   "source": [
    "#### Write a Replay class that includes all the functionality of a replay buffer\n",
    "The replay buffer should kept to some maximum size (10000), allow adding of samples and returning of samples at random from the buffer. Each sample (or experience) is formed as (state, action, reward, next_state, done). The replay buffer should also be able to generate a minibatch. The generate_minibatch method should take in DQN, targetDQN, selected batch_size, and return the states present in the minibatch and the target Q values for those states."
   ]
  },
  {
   "cell_type": "code",
   "execution_count": 3,
   "metadata": {},
   "outputs": [],
   "source": [
    "class Replay():\n",
    "# Replay should also have an initialize method which creates a minimum buffer for \n",
    "# the initial episodes to generate minibatches.  \n",
    "    def __init__(self, max_size):\n",
    "        self.memory_counter = 0    \n",
    "        self.capacity = max_size\n",
    "        self.memory = []\n",
    "        self.gamma=0.99\n",
    "        \n",
    "    def initialize(self,init_length, envir=env):\n",
    "        state = envir.reset()\n",
    "        for i in range (init_length):\n",
    "            action = LongTensor([[env.action_space.sample()]])\n",
    "            next_state, reward, done, _ = envir.step(action[0][0])\n",
    "            \n",
    "            self.push((FloatTensor([state]),\n",
    "                     action,  \n",
    "                     FloatTensor([next_state]),\n",
    "                     FloatTensor([reward]),done))\n",
    "            if done:\n",
    "                state=envir.reset()\n",
    "            else: \n",
    "                state = next_state            \n",
    "        \n",
    "    def push(self, transition):\n",
    "        self.memory.append(transition)\n",
    "        self.memory_counter += 1\n",
    "\n",
    "        if len(self.memory) > self.capacity:\n",
    "            del self.memory[0]\n",
    "\n",
    "\n",
    "    def sample(self, batch_size):\n",
    "        return random.sample(self.memory, batch_size)\n",
    "\n",
    "    def generate_minibatch(self, DQN, targetDQN, BATCH_SIZE):\n",
    "        transitions = self.sample(BATCH_SIZE)\n",
    "        batch_state, batch_action, batch_next_state, batch_reward, batch_done = zip(*transitions)\n",
    "        batch_state = Variable(torch.cat( batch_state))\n",
    "        batch_action = Variable(torch.cat(batch_action))\n",
    "        batch_reward = Variable(torch.cat(batch_reward))\n",
    "        batch_next_state = Variable(torch.cat(batch_next_state))\n",
    "\n",
    "        \n",
    "        # current Q values are estimated by NN for all actions\n",
    "        current_q_values = DQN.net.forward(batch_state).gather(1, batch_action)\n",
    "        \n",
    "        # expected Q values are estimated from actions which gives maximum Q value\n",
    "        max_next_q_values= targetDQN.net.forward(batch_next_state).detach().max(1)[0]\n",
    "         \n",
    "        #if done:     y = reward\n",
    "        #if not done: y = reward + gamma*Qmax\n",
    "        choose=np.invert(np.array(batch_done))*max_next_q_values.data.cpu().numpy()\n",
    "        \n",
    "        expected_q_values = batch_reward + (self.gamma * Variable(FloatTensor(choose)))\n",
    "\n",
    "        \n",
    "        return  current_q_values,expected_q_values \n",
    "    \n",
    "        # loss is measured from error between current and newly expected Q values\n",
    "        #loss = F.mse_loss(current_q_values, expected_q_values)\n",
    "        # backpropagation of loss to NN\n",
    "        #optimizer.zero_grad()\n",
    "        #loss.backward()\n",
    "        #optimizer.step()   \n",
    "    "
   ]
  },
  {
   "cell_type": "code",
   "execution_count": null,
   "metadata": {},
   "outputs": [],
   "source": []
  },
  {
   "cell_type": "markdown",
   "metadata": {},
   "source": [
    "Write a function that creates a minibatch from a buffer"
   ]
  },
  {
   "cell_type": "markdown",
   "metadata": {},
   "source": [
    "### Perform Function Approximation\n",
    "Initialize DQN networks and Replay objects"
   ]
  },
  {
   "cell_type": "code",
   "execution_count": 4,
   "metadata": {},
   "outputs": [],
   "source": [
    "# Initialize DQN\n",
    "# Play around with your learning rate, alpha decay and hidden layer units \n",
    "# Two layers with a small number of units should be enough\n",
    "DQN = QNetwork(learning_rate, state_size, action_size, hidden_size, alpha_decay)\n",
    "targetDQN = QNetwork(learning_rate, state_size, action_size, hidden_size, alpha_decay)\n",
    "\n",
    "targetDQN.net.load_state_dict(DQN.net.state_dict())\n",
    "#targetDQN.net.dense1.weight=DQN.net.dense1.weight\n",
    "\n",
    "# set targetDQN weights to DQN weights\n",
    "# targetDQN.model.weights = DQN.model.weights (syntax given here is for representation purpose only)\n",
    "\n",
    "## Initialize Replay Buffer\n",
    "###################################\n",
    "## Populate the initial experience buffer\n",
    "###################################\n",
    "\n",
    "replay = Replay(max_size=10000)\n",
    "replay.initialize(init_length=1000, envir=env)"
   ]
  },
  {
   "cell_type": "code",
   "execution_count": null,
   "metadata": {},
   "outputs": [],
   "source": []
  },
  {
   "cell_type": "markdown",
   "metadata": {},
   "source": [
    "#### Create a function that solves the above environment using a deep Q network that uses a minibatch strategy.\n",
    "Use the following parameters (these had to be derived empirically - there is generally no trusted way of choosing the right parameter values - i.e. gamma, number of episodes, decay rate, min_epsilon). \n",
    "\n",
    "Generate a graph of the average return per episode every 100 episodes."
   ]
  },
  {
   "cell_type": "code",
   "execution_count": 5,
   "metadata": {
    "scrolled": true
   },
   "outputs": [],
   "source": [
    "# Runtime parameters\n",
    "num_episodes = 2000            # max number of episodes to learn from\n",
    "gamma = 0.99                   # future reward discount\n",
    "max_steps = 500                # cut off simulation after this many steps\n",
    "# Exploration parameters\n",
    "min_epsilon = 0.01             # minimum exploration probability\n",
    "decay_rate = 5/num_episodes    # exponential decay rate for exploration prob\n",
    "returns = np.zeros(num_episodes)\n",
    "learn_step_counter=0\n",
    "\n",
    "\n",
    "for ep in range(1, num_episodes):\n",
    "    total_reward=0\n",
    "    # --> start episode \n",
    "    state = env.reset()\n",
    "    epsilon = min_epsilon + (1.0 - min_epsilon)*np.exp(-decay_rate*ep)\n",
    "\n",
    "    \n",
    "    step = 0\n",
    "    while step < 500:\n",
    "        step+=1\n",
    "        # explore/exploit and get action using DQN\n",
    "        if random.random() > epsilon:\n",
    "            action = DQN.net.forward(Variable(FloatTensor([state]),volatile=True).type(FloatTensor)).data.max(1)[1].view(1, 1)\n",
    "\n",
    "        else:\n",
    "            action = LongTensor([[random.randrange(2)]])\n",
    "        next_state, reward, done, _ = env.step(action[0][0])\n",
    "        \n",
    "        total_reward=total_reward+reward\n",
    "        # perform action and record new_state, action, reward\n",
    "        # populate Replay experience buffer\n",
    "        replay.push((FloatTensor([state]),action,FloatTensor([next_state]),FloatTensor([reward]),done))\n",
    "\n",
    "        state = next_state\n",
    "\n",
    "        if done:\n",
    "            #print(ep,   round(np.mean(returns[ep-99:ep]),0),end='\\r')\n",
    "            break\n",
    "    \n",
    "    # I modified the output of the generate_minibatch so that I can directly use these two q-values to \n",
    "    # calculate loss and do optimization \n",
    "    current_q_value, expected_q_values = replay.generate_minibatch(DQN, targetDQN, batch_size)\n",
    "    DQN.learn(current_q_value,expected_q_values)\n",
    "    returns[ep] = total_reward\n",
    "    # set targetDQN weights to DQN weights\n",
    "    # update DQN (run one epoch of training per episode with generated minibatch of states and qvalues)\n",
    "    targetDQN.net.load_state_dict(DQN.net.state_dict())\n",
    "\n",
    "\n",
    "    # <-- end episode    \n"
   ]
  },
  {
   "cell_type": "markdown",
   "metadata": {},
   "source": [
    "\n"
   ]
  },
  {
   "cell_type": "code",
   "execution_count": 6,
   "metadata": {},
   "outputs": [
    {
     "data": {
      "image/png": "[encoded data removed]",
      "text/plain": [
       "<matplotlib.figure.Figure at 0x115e52588>"
      ]
     },
     "metadata": {},
     "output_type": "display_data"
    }
   ],
   "source": [
    "# plot average returns\n",
    "returns_over_100_episodes = []\n",
    "x = []\n",
    "for i in range(0,int(num_episodes/100)):\n",
    "    returns_over_100_episodes.append(sum(returns[100*i:100*(i+1)-1])/100)\n",
    "    x.append((i+1)*100)\n",
    "plt.plot(x,returns_over_100_episodes,'.-r')\n",
    "plt.ylabel('Average Returns per Episode')\n",
    "plt.xlabel('Num of Episodes')\n",
    "plt.show()\n"
   ]
  },
  {
   "cell_type": "code",
   "execution_count": 19,
   "metadata": {},
   "outputs": [],
   "source": [
    "# DEMO FINAL NETWORK\n",
    "\n",
    "\n",
    "env.reset()\n",
    "# Take one random step to get the pole and cart moving\n",
    "state, reward, done, _ = env.step(env.action_space.sample())\n",
    "state = np.reshape(state, [1, state.size])\n",
    "total_reward = 0\n",
    "for i in range(0, 100000):\n",
    "    env.render()\n",
    "    action = DQN.net(Variable(FloatTensor([state[0]]), volatile=True).type(FloatTensor)).data.max(1)[1].view(1, 1)\n",
    "    \n",
    "    # Take action, get new state and reward\n",
    "    next_state, reward, done, _ = env.step(action[0][0])\n",
    "    total_reward += reward\n",
    "\n",
    "    if done:\n",
    "        break\n",
    "    else:\n",
    "        state = np.reshape(next_state, [1, state.size])\n"
   ]
  },
  {
   "cell_type": "code",
   "execution_count": null,
   "metadata": {},
   "outputs": [],
   "source": []
  },
  {
   "cell_type": "code",
   "execution_count": null,
   "metadata": {},
   "outputs": [],
   "source": []
  },
  {
   "cell_type": "code",
   "execution_count": null,
   "metadata": {},
   "outputs": [],
   "source": []
  }
 ],
 "metadata": {
  "anaconda-cloud": {},
  "kernelspec": {
   "display_name": "Python 3",
   "language": "python",
   "name": "python3"
  },
  "language_info": {
   "codemirror_mode": {
    "name": "ipython",
    "version": 3
   },
   "file_extension": ".py",
   "mimetype": "text/x-python",
   "name": "python",
   "nbconvert_exporter": "python",
   "pygments_lexer": "ipython3",
   "version": "3.6.4"
  },
  "varInspector": {
   "cols": {
    "lenName": 16,
    "lenType": 16,
    "lenVar": 40
   },
   "kernels_config": {
    "python": {
     "delete_cmd_postfix": "",
     "delete_cmd_prefix": "del ",
     "library": "var_list.py",
     "varRefreshCmd": "print(var_dic_list())"
    },
    "r": {
     "delete_cmd_postfix": ") ",
     "delete_cmd_prefix": "rm(",
     "library": "var_list.r",
     "varRefreshCmd": "cat(var_dic_list()) "
    }
   },
   "types_to_exclude": [
    "module",
    "function",
    "builtin_function_or_method",
    "instance",
    "_Feature"
   ],
   "window_display": false
  }
 },
 "nbformat": 4,
 "nbformat_minor": 2
}
